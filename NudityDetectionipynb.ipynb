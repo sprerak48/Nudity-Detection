{
  "nbformat": 4,
  "nbformat_minor": 0,
  "metadata": {
    "colab": {
      "name": "NudityDetectionipynb",
      "version": "0.3.2",
      "provenance": [],
      "collapsed_sections": [],
      "include_colab_link": true
    },
    "kernelspec": {
      "name": "python3",
      "display_name": "Python 3"
    },
    "accelerator": "GPU"
  },
  "cells": [
    {
      "cell_type": "markdown",
      "metadata": {
        "id": "view-in-github",
        "colab_type": "text"
      },
      "source": [
        "<a href=\"https://colab.research.google.com/github/sprerak48/Nudity-Detection/blob/master/NudityDetectionipynb.ipynb\" target=\"_parent\"><img src=\"https://colab.research.google.com/assets/colab-badge.svg\" alt=\"Open In Colab\"/></a>"
      ]
    },
    {
      "cell_type": "code",
      "metadata": {
        "id": "xptWbNiz6K88",
        "colab_type": "code",
        "outputId": "f1385e2a-76ca-4f54-9bd5-f6b9d821a899",
        "colab": {
          "base_uri": "https://localhost:8080/",
          "height": 105
        }
      },
      "source": [
        "!pip install sightengine"
      ],
      "execution_count": 0,
      "outputs": [
        {
          "output_type": "stream",
          "text": [
            "Collecting sightengine\n",
            "  Downloading https://files.pythonhosted.org/packages/c4/0c/497dbf6aaeceb6a85232540a61c07cca538f93346c6a33aa24bc56c0fa3e/sightengine-1.4.0-py2.py3-none-any.whl\n",
            "Installing collected packages: sightengine\n",
            "Successfully installed sightengine-1.4.0\n"
          ],
          "name": "stdout"
        }
      ]
    },
    {
      "cell_type": "code",
      "metadata": {
        "id": "y71oV9vY9LGK",
        "colab_type": "code",
        "colab": {}
      },
      "source": [
        "from sightengine.client import SightengineClient\n",
        "client = SightengineClient('1850976714','f35wHitctgAtUwG4FbnS')\n",
        "output = client.check('nudity').set_url('https://i.imgur.com/rga6845.jpg')"
      ],
      "execution_count": 0,
      "outputs": []
    },
    {
      "cell_type": "code",
      "metadata": {
        "id": "LkCIGF-I9i30",
        "colab_type": "code",
        "outputId": "32dcc54a-ca92-48d4-c51d-ac2f4c5b36c4",
        "colab": {
          "base_uri": "https://localhost:8080/",
          "height": 54
        }
      },
      "source": [
        "print(output)"
      ],
      "execution_count": 0,
      "outputs": [
        {
          "output_type": "stream",
          "text": [
            "{'status': 'success', 'request': {'id': 'req_5nw6LxaNVEvgNt7N15go1', 'timestamp': 1560151320.8374, 'operations': 1}, 'nudity': {'raw': 0.7, 'safe': 0.28, 'partial': 0.019}, 'media': {'id': 'med_5nw68pkPuslyTm9Uo2Ul7', 'uri': 'https://i.imgur.com/rga6845.jpg'}}\n"
          ],
          "name": "stdout"
        }
      ]
    },
    {
      "cell_type": "code",
      "metadata": {
        "id": "wDxPpSABfxqd",
        "colab_type": "code",
        "outputId": "e7617344-2c87-4719-e378-5ee9530abe86",
        "colab": {
          "base_uri": "https://localhost:8080/",
          "height": 408
        }
      },
      "source": [
        "from sightengine.client import SightengineClient\n",
        "client = SightengineClient('1850976714','f35wHitctgAtUwG4FbnS')\n",
        "client.check('nudity').video_sync('https://sightengine.com/assets/stream/examples/funfair.mp4')"
      ],
      "execution_count": 0,
      "outputs": [
        {
          "output_type": "execute_result",
          "data": {
            "text/plain": [
              "{'data': {'frames': [{'info': {'id': 'med_5nx8XYdKg9P6JZKtxfKix_1',\n",
              "     'position': 0},\n",
              "    'nudity': {'partial': 0.01, 'raw': 0.01, 'safe': 0.98}},\n",
              "   {'info': {'id': 'med_5nx8XYdKg9P6JZKtxfKix_2', 'position': 1000},\n",
              "    'nudity': {'partial': 0.01, 'raw': 0.01, 'safe': 0.98}},\n",
              "   {'info': {'id': 'med_5nx8XYdKg9P6JZKtxfKix_3', 'position': 2000},\n",
              "    'nudity': {'partial': 0.01, 'raw': 0.01, 'safe': 0.98}},\n",
              "   {'info': {'id': 'med_5nx8XYdKg9P6JZKtxfKix_4', 'position': 3000},\n",
              "    'nudity': {'partial': 0.01, 'raw': 0.01, 'safe': 0.98}},\n",
              "   {'info': {'id': 'med_5nx8XYdKg9P6JZKtxfKix_5', 'position': 4000},\n",
              "    'nudity': {'partial': 0.01, 'raw': 0.017, 'safe': 0.973}},\n",
              "   {'info': {'id': 'med_5nx8XYdKg9P6JZKtxfKix_6', 'position': 5000},\n",
              "    'nudity': {'partial': 0.01, 'raw': 0.01, 'safe': 0.98}},\n",
              "   {'info': {'id': 'med_5nx8XYdKg9P6JZKtxfKix_7', 'position': 6000},\n",
              "    'nudity': {'partial': 0.01, 'raw': 0.01, 'safe': 0.98}},\n",
              "   {'info': {'id': 'med_5nx8XYdKg9P6JZKtxfKix_8', 'position': 7000},\n",
              "    'nudity': {'partial': 0.01, 'raw': 0.01, 'safe': 0.98}}]},\n",
              " 'media': {'id': 'med_5nx8XYdKg9P6JZKtxfKix',\n",
              "  'uri': 'https://sightengine.com/assets/stream/examples/funfair.mp4'},\n",
              " 'request': {'id': 'req_5nx8YiDVaTr5dncZeObaJ',\n",
              "  'operations': 8,\n",
              "  'timestamp': 1560155201.3301},\n",
              " 'status': 'success'}"
            ]
          },
          "metadata": {
            "tags": []
          },
          "execution_count": 46
        }
      ]
    },
    {
      "cell_type": "code",
      "metadata": {
        "id": "FlxBgmlykVKV",
        "colab_type": "code",
        "outputId": "96452426-9f64-4920-fc73-4175c2259d2f",
        "colab": {
          "base_uri": "https://localhost:8080/",
          "height": 334
        }
      },
      "source": [
        "from NudeNet import NudeClassifier\n",
        "classifier = NudeClassifier('classifier_checkpoint_path')\n",
        "classifier.classify('content/1.jpg')"
      ],
      "execution_count": 0,
      "outputs": [
        {
          "output_type": "error",
          "ename": "ModuleNotFoundError",
          "evalue": "ignored",
          "traceback": [
            "\u001b[0;31m---------------------------------------------------------------------------\u001b[0m",
            "\u001b[0;31mModuleNotFoundError\u001b[0m                       Traceback (most recent call last)",
            "\u001b[0;32m<ipython-input-5-97fcd6b2097f>\u001b[0m in \u001b[0;36m<module>\u001b[0;34m()\u001b[0m\n\u001b[0;32m----> 1\u001b[0;31m \u001b[0;32mfrom\u001b[0m \u001b[0mNudeNet\u001b[0m \u001b[0;32mimport\u001b[0m \u001b[0mNudeClassifier\u001b[0m\u001b[0;34m\u001b[0m\u001b[0;34m\u001b[0m\u001b[0m\n\u001b[0m\u001b[1;32m      2\u001b[0m \u001b[0mclassifier\u001b[0m \u001b[0;34m=\u001b[0m \u001b[0mNudeClassifier\u001b[0m\u001b[0;34m(\u001b[0m\u001b[0;34m'classifier_checkpoint_path'\u001b[0m\u001b[0;34m)\u001b[0m\u001b[0;34m\u001b[0m\u001b[0;34m\u001b[0m\u001b[0m\n\u001b[1;32m      3\u001b[0m \u001b[0mclassifier\u001b[0m\u001b[0;34m.\u001b[0m\u001b[0mclassify\u001b[0m\u001b[0;34m(\u001b[0m\u001b[0;34m'content/1.jpg'\u001b[0m\u001b[0;34m)\u001b[0m\u001b[0;34m\u001b[0m\u001b[0;34m\u001b[0m\u001b[0m\n",
            "\u001b[0;31mModuleNotFoundError\u001b[0m: No module named 'NudeNet'",
            "",
            "\u001b[0;31m---------------------------------------------------------------------------\u001b[0;32m\nNOTE: If your import is failing due to a missing package, you can\nmanually install dependencies using either !pip or !apt.\n\nTo view examples of installing some common dependencies, click the\n\"Open Examples\" button below.\n\u001b[0;31m---------------------------------------------------------------------------\u001b[0m\n"
          ]
        }
      ]
    },
    {
      "cell_type": "code",
      "metadata": {
        "id": "kO14wvzTs4f0",
        "colab_type": "code",
        "outputId": "fd7ab61c-dde9-41b2-9457-0e05540cae2b",
        "colab": {
          "base_uri": "https://localhost:8080/",
          "height": 54
        }
      },
      "source": [
        "import requests\n",
        "\n",
        "url = 'https://app.nanonets.com/api/v2/ImageCategorization/LabelFile/'\n",
        "\n",
        "data = {'file': open('1.jpg', 'rb'), 'modelId': ('', 'f4ca1ca3-ab27-4aed-8336-0b36e8a1d9fc')}\n",
        "\n",
        "response = requests.post(url, auth= requests.auth.HTTPBasicAuth('55RQit2IVLJ5R84eiJRckW8unWGqSL-B', ''), files=data)\n",
        "\n",
        "print(response.text)"
      ],
      "execution_count": 0,
      "outputs": [
        {
          "output_type": "stream",
          "text": [
            "{\"message\":\"Success\",\"result\":[{\"message\":\"Success\",\"prediction\":[{\"label\":\"Safe\",\"probability\":0.9963923},{\"label\":\"NotSafe\",\"probability\":0.0036076992}],\"file\":\"1.jpg\"}]}\n"
          ],
          "name": "stdout"
        }
      ]
    },
    {
      "cell_type": "code",
      "metadata": {
        "id": "-CGvOPUUtN1G",
        "colab_type": "code",
        "outputId": "b7744acb-17bc-4f89-b746-34487e260485",
        "colab": {
          "base_uri": "https://localhost:8080/",
          "height": 54
        }
      },
      "source": [
        "import requests\n",
        "\n",
        "url = 'https://app.nanonets.com/api/v2/ImageCategorization/LabelUrls/'\n",
        "\n",
        "headers = {\n",
        "  'accept': 'application/x-www-form-urlencoded'\n",
        "}\n",
        "\n",
        "data = {'modelId': 'f4ca1ca3-ab27-4aed-8336-0b36e8a1d9fc', 'urls' : ['https://yt3.ggpht.com/a/AGF-l7-BBIcC888A2qYc3rB44rST01IEYDG3uzbU_A=s900-mo-c-c0xffffffff-rj-k-no']}\n",
        "\n",
        "response = requests.request('POST', url, headers=headers, auth=requests.auth.HTTPBasicAuth('55RQit2IVLJ5R84eiJRckW8unWGqSL-B', ''), data=data)\n",
        "\n",
        "print(response.text)"
      ],
      "execution_count": 0,
      "outputs": [
        {
          "output_type": "stream",
          "text": [
            "{\"message\":\"Success\",\"result\":[{\"message\":\"Success\",\"prediction\":[{\"label\":\"Safe\",\"probability\":0.9397944},{\"label\":\"NotSafe\",\"probability\":0.060205545}],\"file\":\"https://yt3.ggpht.com/a/AGF-l7-BBIcC888A2qYc3rB44rST01IEYDG3uzbU_A=s900-mo-c-c0xffffffff-rj-k-no\"}]}\n"
          ],
          "name": "stdout"
        }
      ]
    },
    {
      "cell_type": "code",
      "metadata": {
        "id": "pJJ14i258_G1",
        "colab_type": "code",
        "outputId": "be90b98f-21a4-4f78-f086-66bb6c40b48f",
        "colab": {
          "base_uri": "https://localhost:8080/",
          "height": 190
        }
      },
      "source": [
        "!pip install Augmentor"
      ],
      "execution_count": 0,
      "outputs": [
        {
          "output_type": "stream",
          "text": [
            "Collecting Augmentor\n",
            "  Downloading https://files.pythonhosted.org/packages/4d/f4/b0eaa9d3b4120a5450ac92d4417907ca60fad5749c1f50ed95f720792350/Augmentor-0.2.3-py2.py3-none-any.whl\n",
            "Requirement already satisfied: tqdm>=4.9.0 in /usr/local/lib/python3.6/dist-packages (from Augmentor) (4.28.1)\n",
            "Requirement already satisfied: Pillow>=4.0.0 in /usr/local/lib/python3.6/dist-packages (from Augmentor) (4.3.0)\n",
            "Requirement already satisfied: future>=0.16.0 in /usr/local/lib/python3.6/dist-packages (from Augmentor) (0.16.0)\n",
            "Requirement already satisfied: numpy>=1.11.0 in /usr/local/lib/python3.6/dist-packages (from Augmentor) (1.16.4)\n",
            "Requirement already satisfied: olefile in /usr/local/lib/python3.6/dist-packages (from Pillow>=4.0.0->Augmentor) (0.46)\n",
            "Installing collected packages: Augmentor\n",
            "Successfully installed Augmentor-0.2.3\n"
          ],
          "name": "stdout"
        }
      ]
    },
    {
      "cell_type": "code",
      "metadata": {
        "id": "OdIlGZMG-VO5",
        "colab_type": "code",
        "outputId": "94b129a4-109f-4010-ba73-700ae065d6f3",
        "colab": {
          "base_uri": "https://localhost:8080/",
          "height": 34
        }
      },
      "source": [
        "import Augmentor\n",
        "\n",
        "import keras\n",
        "from keras.models import Sequential\n",
        "from keras.layers import Dense, Dropout, Flatten\n",
        "from keras.layers import Conv2D, MaxPooling2D\n",
        "\n",
        "import numpy as np\n",
        "\n",
        "import matplotlib.pyplot as plt\n",
        "%matplotlib inline"
      ],
      "execution_count": 0,
      "outputs": [
        {
          "output_type": "stream",
          "text": [
            "Using TensorFlow backend.\n"
          ],
          "name": "stderr"
        }
      ]
    },
    {
      "cell_type": "code",
      "metadata": {
        "id": "-1xvtIUA_KLa",
        "colab_type": "code",
        "outputId": "7e0004d3-51d0-40dd-9198-d8d573f1b65c",
        "colab": {
          "base_uri": "https://localhost:8080/",
          "height": 275
        }
      },
      "source": [
        "num_classes = 10\n",
        "input_shape = (28, 28, 1)\n",
        "\n",
        "model = Sequential()\n",
        "model.add(Conv2D(32, kernel_size=(3, 3),\n",
        "                 activation='relu',\n",
        "                 input_shape=input_shape))\n",
        "model.add(Conv2D(64, (3, 3), activation='relu'))\n",
        "model.add(MaxPooling2D(pool_size=(2, 2)))\n",
        "model.add(Dropout(0.25))\n",
        "model.add(Flatten())\n",
        "model.add(Dense(128, activation='relu'))\n",
        "model.add(Dropout(0.5))\n",
        "model.add(Dense(num_classes, activation='softmax'))"
      ],
      "execution_count": 0,
      "outputs": [
        {
          "output_type": "stream",
          "text": [
            "WARNING: Logging before flag parsing goes to stderr.\n",
            "W0627 08:19:37.633399 139696507201408 deprecation_wrapper.py:119] From /usr/local/lib/python3.6/dist-packages/keras/backend/tensorflow_backend.py:74: The name tf.get_default_graph is deprecated. Please use tf.compat.v1.get_default_graph instead.\n",
            "\n",
            "W0627 08:19:37.658407 139696507201408 deprecation_wrapper.py:119] From /usr/local/lib/python3.6/dist-packages/keras/backend/tensorflow_backend.py:517: The name tf.placeholder is deprecated. Please use tf.compat.v1.placeholder instead.\n",
            "\n",
            "W0627 08:19:37.662547 139696507201408 deprecation_wrapper.py:119] From /usr/local/lib/python3.6/dist-packages/keras/backend/tensorflow_backend.py:4138: The name tf.random_uniform is deprecated. Please use tf.random.uniform instead.\n",
            "\n",
            "W0627 08:19:37.710128 139696507201408 deprecation_wrapper.py:119] From /usr/local/lib/python3.6/dist-packages/keras/backend/tensorflow_backend.py:3976: The name tf.nn.max_pool is deprecated. Please use tf.nn.max_pool2d instead.\n",
            "\n",
            "W0627 08:19:37.713782 139696507201408 deprecation_wrapper.py:119] From /usr/local/lib/python3.6/dist-packages/keras/backend/tensorflow_backend.py:133: The name tf.placeholder_with_default is deprecated. Please use tf.compat.v1.placeholder_with_default instead.\n",
            "\n",
            "W0627 08:19:37.725869 139696507201408 deprecation.py:506] From /usr/local/lib/python3.6/dist-packages/keras/backend/tensorflow_backend.py:3445: calling dropout (from tensorflow.python.ops.nn_ops) with keep_prob is deprecated and will be removed in a future version.\n",
            "Instructions for updating:\n",
            "Please use `rate` instead of `keep_prob`. Rate should be set to `rate = 1 - keep_prob`.\n"
          ],
          "name": "stderr"
        }
      ]
    },
    {
      "cell_type": "code",
      "metadata": {
        "id": "xql1nZvT_SOz",
        "colab_type": "code",
        "outputId": "d60097cc-2abc-4c44-9261-e4353eba9000",
        "colab": {
          "base_uri": "https://localhost:8080/",
          "height": 105
        }
      },
      "source": [
        "model.compile(loss=keras.losses.categorical_crossentropy,\n",
        "              optimizer=keras.optimizers.Adadelta(),\n",
        "              metrics=['accuracy'])"
      ],
      "execution_count": 0,
      "outputs": [
        {
          "output_type": "stream",
          "text": [
            "W0627 08:19:41.502965 139696507201408 deprecation_wrapper.py:119] From /usr/local/lib/python3.6/dist-packages/keras/optimizers.py:790: The name tf.train.Optimizer is deprecated. Please use tf.compat.v1.train.Optimizer instead.\n",
            "\n",
            "W0627 08:19:41.513831 139696507201408 deprecation_wrapper.py:119] From /usr/local/lib/python3.6/dist-packages/keras/backend/tensorflow_backend.py:3295: The name tf.log is deprecated. Please use tf.math.log instead.\n",
            "\n"
          ],
          "name": "stderr"
        }
      ]
    },
    {
      "cell_type": "code",
      "metadata": {
        "id": "2oO56wAs_WVP",
        "colab_type": "code",
        "outputId": "cb6ce247-6bf0-4696-fe33-754cb13525a9",
        "colab": {
          "base_uri": "https://localhost:8080/",
          "height": 408
        }
      },
      "source": [
        "model.summary()"
      ],
      "execution_count": 0,
      "outputs": [
        {
          "output_type": "stream",
          "text": [
            "_________________________________________________________________\n",
            "Layer (type)                 Output Shape              Param #   \n",
            "=================================================================\n",
            "conv2d_1 (Conv2D)            (None, 26, 26, 32)        320       \n",
            "_________________________________________________________________\n",
            "conv2d_2 (Conv2D)            (None, 24, 24, 64)        18496     \n",
            "_________________________________________________________________\n",
            "max_pooling2d_1 (MaxPooling2 (None, 12, 12, 64)        0         \n",
            "_________________________________________________________________\n",
            "dropout_1 (Dropout)          (None, 12, 12, 64)        0         \n",
            "_________________________________________________________________\n",
            "flatten_1 (Flatten)          (None, 9216)              0         \n",
            "_________________________________________________________________\n",
            "dense_1 (Dense)              (None, 128)               1179776   \n",
            "_________________________________________________________________\n",
            "dropout_2 (Dropout)          (None, 128)               0         \n",
            "_________________________________________________________________\n",
            "dense_2 (Dense)              (None, 10)                1290      \n",
            "=================================================================\n",
            "Total params: 1,199,882\n",
            "Trainable params: 1,199,882\n",
            "Non-trainable params: 0\n",
            "_________________________________________________________________\n"
          ],
          "name": "stdout"
        }
      ]
    },
    {
      "cell_type": "code",
      "metadata": {
        "id": "LvS-YiwP_dtm",
        "colab_type": "code",
        "outputId": "b8291928-0053-4830-b3d0-759d36604b31",
        "colab": {
          "base_uri": "https://localhost:8080/",
          "height": 309
        }
      },
      "source": [
        "!wget https://rawgit.com/myleott/mnist_png/master/mnist_png.tar.gz\n",
        "!tar -xf mnist_png.tar.gz"
      ],
      "execution_count": 0,
      "outputs": [
        {
          "output_type": "stream",
          "text": [
            "--2019-06-14 07:57:11--  https://rawgit.com/myleott/mnist_png/master/mnist_png.tar.gz\n",
            "Resolving rawgit.com (rawgit.com)... 104.27.142.156, 104.27.143.156, 2606:4700:30::681b:8e9c, ...\n",
            "Connecting to rawgit.com (rawgit.com)|104.27.142.156|:443... connected.\n",
            "HTTP request sent, awaiting response... 301 Moved Permanently\n",
            "Location: https://raw.githubusercontent.com/myleott/mnist_png/master/mnist_png.tar.gz [following]\n",
            "--2019-06-14 07:57:11--  https://raw.githubusercontent.com/myleott/mnist_png/master/mnist_png.tar.gz\n",
            "Resolving raw.githubusercontent.com (raw.githubusercontent.com)... 151.101.0.133, 151.101.64.133, 151.101.128.133, ...\n",
            "Connecting to raw.githubusercontent.com (raw.githubusercontent.com)|151.101.0.133|:443... connected.\n",
            "HTTP request sent, awaiting response... 200 OK\n",
            "Length: 15683414 (15M) [application/octet-stream]\n",
            "Saving to: ‘mnist_png.tar.gz’\n",
            "\n",
            "mnist_png.tar.gz    100%[===================>]  14.96M  88.6MB/s    in 0.2s    \n",
            "\n",
            "2019-06-14 07:57:11 (88.6 MB/s) - ‘mnist_png.tar.gz’ saved [15683414/15683414]\n",
            "\n"
          ],
          "name": "stdout"
        }
      ]
    },
    {
      "cell_type": "code",
      "metadata": {
        "id": "UIYe1eip_xFK",
        "colab_type": "code",
        "outputId": "6da2c62d-6281-492a-a9f8-150e5f4be061",
        "colab": {
          "base_uri": "https://localhost:8080/",
          "height": 51
        }
      },
      "source": [
        "p = Augmentor.Pipeline(\"/content/\")"
      ],
      "execution_count": 0,
      "outputs": [
        {
          "output_type": "stream",
          "text": [
            "Initialised with 0 image(s) found.\n",
            "Output directory set to /content/output."
          ],
          "name": "stdout"
        }
      ]
    },
    {
      "cell_type": "code",
      "metadata": {
        "id": "yFQfEig7AG2T",
        "colab_type": "code",
        "colab": {}
      },
      "source": [
        "p.flip_top_bottom(probability=0.1)\n",
        "p.rotate(probability=0.3, max_left_rotation=5, max_right_rotation=5)"
      ],
      "execution_count": 0,
      "outputs": []
    },
    {
      "cell_type": "code",
      "metadata": {
        "id": "MA-v8gIAAMKn",
        "colab_type": "code",
        "outputId": "5b5d3489-00a3-4357-92fc-87fe6bf84abc",
        "colab": {
          "base_uri": "https://localhost:8080/",
          "height": 136
        }
      },
      "source": [
        "p.status()"
      ],
      "execution_count": 0,
      "outputs": [
        {
          "output_type": "stream",
          "text": [
            "Operations: 2\n",
            "\t0: Flip (probability=0.1 top_bottom_left_right=TOP_BOTTOM )\n",
            "\t1: RotateRange (probability=0.3 max_left_rotation=-5 max_right_rotation=5 )\n",
            "Images: 0\n",
            "Classes: 0\n",
            "\n",
            "You can remove operations using the appropriate index and the remove_operation(index) function.\n"
          ],
          "name": "stdout"
        }
      ]
    },
    {
      "cell_type": "code",
      "metadata": {
        "id": "g2wWnd8LATEL",
        "colab_type": "code",
        "colab": {}
      },
      "source": [
        "batch_size = 128\n",
        "g = p.keras_generator(batch_size=batch_size)"
      ],
      "execution_count": 0,
      "outputs": []
    },
    {
      "cell_type": "code",
      "metadata": {
        "id": "1KvBPOHjAUJO",
        "colab_type": "code",
        "colab": {}
      },
      "source": [
        "images, labels = next(g)"
      ],
      "execution_count": 0,
      "outputs": []
    },
    {
      "cell_type": "code",
      "metadata": {
        "id": "AxpcK1wBAWfs",
        "colab_type": "code",
        "outputId": "e82622ed-7313-4d3e-9d5d-5cb1be2d53a5",
        "colab": {
          "base_uri": "https://localhost:8080/",
          "height": 34
        }
      },
      "source": [
        "print(labels[0])"
      ],
      "execution_count": 0,
      "outputs": [
        {
          "output_type": "stream",
          "text": [
            "[0 0 0 1 0 0 0 0 0 0]\n"
          ],
          "name": "stdout"
        }
      ]
    },
    {
      "cell_type": "code",
      "metadata": {
        "id": "TzpQwbzTAZ4V",
        "colab_type": "code",
        "outputId": "7cfb2ae8-4bae-453f-ea49-8f46030d3a62",
        "colab": {
          "base_uri": "https://localhost:8080/",
          "height": 269
        }
      },
      "source": [
        "plt.imshow(images[19].reshape(28, 28), cmap=\"Greys\");"
      ],
      "execution_count": 0,
      "outputs": [
        {
          "output_type": "display_data",
          "data": {
            "image/png": "[encoded data removed]",
            "text/plain": [
              "<Figure size 432x288 with 1 Axes>"
            ]
          },
          "metadata": {
            "tags": []
          }
        }
      ]
    },
    {
      "cell_type": "code",
      "metadata": {
        "id": "baJWUmu8Am8a",
        "colab_type": "code",
        "outputId": "ad233ce7-7f00-4db0-cd32-cb62daf9eb12",
        "colab": {
          "base_uri": "https://localhost:8080/",
          "height": 258
        }
      },
      "source": [
        "h = model.fit_generator(g, steps_per_epoch=len(p.augmentor_images)/batch_size, epochs=5, verbose=1)  "
      ],
      "execution_count": 0,
      "outputs": [
        {
          "output_type": "stream",
          "text": [
            "W0614 08:02:10.837752 140511588140928 deprecation.py:323] From /usr/local/lib/python3.6/dist-packages/tensorflow/python/ops/math_grad.py:1250: add_dispatch_support.<locals>.wrapper (from tensorflow.python.ops.array_ops) is deprecated and will be removed in a future version.\n",
            "Instructions for updating:\n",
            "Use tf.where in 2.0, which has the same broadcast rule as np.where\n"
          ],
          "name": "stderr"
        },
        {
          "output_type": "stream",
          "text": [
            "Epoch 1/5\n",
            "469/468 [==============================] - 169s 359ms/step - loss: 0.3942 - acc: 0.8772\n",
            "Epoch 2/5\n",
            "469/468 [==============================] - 167s 356ms/step - loss: 0.1658 - acc: 0.9503\n",
            "Epoch 3/5\n",
            "469/468 [==============================] - 167s 355ms/step - loss: 0.1241 - acc: 0.9624\n",
            "Epoch 4/5\n",
            "469/468 [==============================] - 167s 355ms/step - loss: 0.1057 - acc: 0.9676\n",
            "Epoch 5/5\n",
            "469/468 [==============================] - 166s 353ms/step - loss: 0.0965 - acc: 0.9704\n"
          ],
          "name": "stdout"
        }
      ]
    },
    {
      "cell_type": "markdown",
      "metadata": {
        "id": "LFQPxw0fal9_",
        "colab_type": "text"
      },
      "source": [
        "IMAGE CLASSIFICATION - CNN MODEL"
      ]
    },
    {
      "cell_type": "code",
      "metadata": {
        "id": "KMuKn_5TalV4",
        "colab_type": "code",
        "outputId": "7ed3332b-e4a7-4d85-f0aa-bfa430d46e17",
        "colab": {
          "base_uri": "https://localhost:8080/",
          "height": 68
        }
      },
      "source": [
        "!pip install pillow\n",
        "!KERAS_BACKEND=tensorflow python -c \"from keras import backend\""
      ],
      "execution_count": 2,
      "outputs": [
        {
          "output_type": "stream",
          "text": [
            "Requirement already satisfied: pillow in /usr/local/lib/python3.6/dist-packages (4.3.0)\n",
            "Requirement already satisfied: olefile in /usr/local/lib/python3.6/dist-packages (from pillow) (0.46)\n",
            "Using TensorFlow backend.\n"
          ],
          "name": "stdout"
        }
      ]
    },
    {
      "cell_type": "code",
      "metadata": {
        "id": "5v1J4Zgea3B-",
        "colab_type": "code",
        "outputId": "bbf98eeb-2bc4-4a97-abdb-83873599703f",
        "colab": {
          "base_uri": "https://localhost:8080/",
          "height": 34
        }
      },
      "source": [
        "import os\n",
        "import numpy as np\n",
        "from keras.models import Sequential\n",
        "from keras.layers import Activation, Dropout, Flatten, Dense\n",
        "from keras.preprocessing.image import ImageDataGenerator\n",
        "from keras.layers import Convolution2D, MaxPooling2D, ZeroPadding2D\n",
        "from keras import optimizers"
      ],
      "execution_count": 3,
      "outputs": [
        {
          "output_type": "stream",
          "text": [
            "Using TensorFlow backend.\n"
          ],
          "name": "stderr"
        }
      ]
    },
    {
      "cell_type": "code",
      "metadata": {
        "id": "BkF49KcwjJkz",
        "colab_type": "code",
        "colab": {}
      },
      "source": [
        "classes = ['safe','non-safe']\n",
        "num_classes = len(classes)\n",
        "\n",
        "train_data = 'content/drive/My Drive/dbNudeDetection'\n",
        "validation_size = 0.2\n",
        "batch_size = 16\n",
        "data = dataset.read_train_sets(train_data, img_size, classes, validation_size=validation_size)"
      ],
      "execution_count": 0,
      "outputs": []
    },
    {
      "cell_type": "code",
      "metadata": {
        "id": "bqmP-CDtmOCC",
        "colab_type": "code",
        "outputId": "d1caffbb-d512-4048-8fcc-937cbcff07ea",
        "colab": {
          "base_uri": "https://localhost:8080/",
          "height": 122
        }
      },
      "source": [
        "# Run this cell to mount your Google Drive.\n",
        "from google.colab import drive\n",
        "drive.mount('/content/drive')"
      ],
      "execution_count": 1,
      "outputs": [
        {
          "output_type": "stream",
          "text": [
            "Go to this URL in a browser: https://accounts.google.com/o/oauth2/auth?client_id=947318989803-6bn6qk8qdgf4n4g3pfee6491hc0brc4i.apps.googleusercontent.com&redirect_uri=urn%3Aietf%3Awg%3Aoauth%3A2.0%3Aoob&scope=email%20https%3A%2F%2Fwww.googleapis.com%2Fauth%2Fdocs.test%20https%3A%2F%2Fwww.googleapis.com%2Fauth%2Fdrive%20https%3A%2F%2Fwww.googleapis.com%2Fauth%2Fdrive.photos.readonly%20https%3A%2F%2Fwww.googleapis.com%2Fauth%2Fpeopleapi.readonly&response_type=code\n",
            "\n",
            "Enter your authorization code:\n",
            "··········\n",
            "Mounted at /content/drive\n"
          ],
          "name": "stdout"
        }
      ]
    },
    {
      "cell_type": "code",
      "metadata": {
        "id": "OWidPpw7a7hk",
        "colab_type": "code",
        "colab": {}
      },
      "source": [
        "img_width, img_height = 150, 150\n",
        "\n",
        "train_data_dir = '/content/drive/My Drive/dbNudeDetection/train'\n",
        "validation_data_dir = '/content/drive/My Drive/dbNudeDetection/validation'\n",
        "\n"
      ],
      "execution_count": 0,
      "outputs": []
    },
    {
      "cell_type": "code",
      "metadata": {
        "id": "SYeK1UwCdBPD",
        "colab_type": "code",
        "outputId": "c9e06a7b-6c1c-4403-d798-28d8a847122b",
        "colab": {
          "base_uri": "https://localhost:8080/",
          "height": 51
        }
      },
      "source": [
        "datagen = ImageDataGenerator(rescale=1./255)\n",
        "\n",
        "train_generator = datagen.flow_from_directory(\n",
        "        train_data_dir,\n",
        "        target_size=(img_width, img_height),\n",
        "        batch_size=16,\n",
        "        class_mode='binary')\n",
        "\n",
        "validation_generator = datagen.flow_from_directory(\n",
        "        validation_data_dir,\n",
        "        target_size=(img_width, img_height),\n",
        "        batch_size=32,\n",
        "        class_mode='binary')"
      ],
      "execution_count": 5,
      "outputs": [
        {
          "output_type": "stream",
          "text": [
            "Found 180 images belonging to 2 classes.\n",
            "Found 50 images belonging to 2 classes.\n"
          ],
          "name": "stdout"
        }
      ]
    },
    {
      "cell_type": "code",
      "metadata": {
        "id": "FXAdpR4EbNbT",
        "colab_type": "code",
        "outputId": "8222ecea-0971-40c6-8d74-94b3f5b5214c",
        "colab": {
          "base_uri": "https://localhost:8080/",
          "height": 377
        }
      },
      "source": [
        "model = Sequential()\n",
        "model.add(Convolution2D(32, 3, 3, input_shape=(img_width, img_height,3)))\n",
        "model.add(Activation('relu'))\n",
        "model.add(MaxPooling2D(pool_size=(2, 2)))\n",
        "\n",
        "model.add(Convolution2D(32, 3, 3))\n",
        "model.add(Activation('relu'))\n",
        "model.add(MaxPooling2D(pool_size=(2, 2)))\n",
        "\n",
        "model.add(Convolution2D(64, 3, 3))\n",
        "model.add(Activation('relu'))\n",
        "model.add(MaxPooling2D(pool_size=(2, 2)))\n",
        "\n",
        "model.add(Flatten())\n",
        "model.add(Dense(64))\n",
        "model.add(Activation('relu'))\n",
        "model.add(Dropout(0.5))\n",
        "model.add(Dense(1))\n",
        "model.add(Activation('sigmoid'))\n"
      ],
      "execution_count": 6,
      "outputs": [
        {
          "output_type": "stream",
          "text": [
            "WARNING: Logging before flag parsing goes to stderr.\n",
            "W0702 09:26:55.640346 140503743260544 deprecation_wrapper.py:119] From /usr/local/lib/python3.6/dist-packages/keras/backend/tensorflow_backend.py:74: The name tf.get_default_graph is deprecated. Please use tf.compat.v1.get_default_graph instead.\n",
            "\n",
            "/usr/local/lib/python3.6/dist-packages/ipykernel_launcher.py:2: UserWarning: Update your `Conv2D` call to the Keras 2 API: `Conv2D(32, (3, 3), input_shape=(150, 150,...)`\n",
            "  \n",
            "W0702 09:26:55.692919 140503743260544 deprecation_wrapper.py:119] From /usr/local/lib/python3.6/dist-packages/keras/backend/tensorflow_backend.py:517: The name tf.placeholder is deprecated. Please use tf.compat.v1.placeholder instead.\n",
            "\n",
            "W0702 09:26:55.700134 140503743260544 deprecation_wrapper.py:119] From /usr/local/lib/python3.6/dist-packages/keras/backend/tensorflow_backend.py:4138: The name tf.random_uniform is deprecated. Please use tf.random.uniform instead.\n",
            "\n",
            "W0702 09:26:55.734513 140503743260544 deprecation_wrapper.py:119] From /usr/local/lib/python3.6/dist-packages/keras/backend/tensorflow_backend.py:3976: The name tf.nn.max_pool is deprecated. Please use tf.nn.max_pool2d instead.\n",
            "\n",
            "/usr/local/lib/python3.6/dist-packages/ipykernel_launcher.py:6: UserWarning: Update your `Conv2D` call to the Keras 2 API: `Conv2D(32, (3, 3))`\n",
            "  \n",
            "/usr/local/lib/python3.6/dist-packages/ipykernel_launcher.py:10: UserWarning: Update your `Conv2D` call to the Keras 2 API: `Conv2D(64, (3, 3))`\n",
            "  # Remove the CWD from sys.path while we load stuff.\n",
            "W0702 09:26:55.800355 140503743260544 deprecation_wrapper.py:119] From /usr/local/lib/python3.6/dist-packages/keras/backend/tensorflow_backend.py:133: The name tf.placeholder_with_default is deprecated. Please use tf.compat.v1.placeholder_with_default instead.\n",
            "\n",
            "W0702 09:26:55.810227 140503743260544 deprecation.py:506] From /usr/local/lib/python3.6/dist-packages/keras/backend/tensorflow_backend.py:3445: calling dropout (from tensorflow.python.ops.nn_ops) with keep_prob is deprecated and will be removed in a future version.\n",
            "Instructions for updating:\n",
            "Please use `rate` instead of `keep_prob`. Rate should be set to `rate = 1 - keep_prob`.\n"
          ],
          "name": "stderr"
        }
      ]
    },
    {
      "cell_type": "code",
      "metadata": {
        "id": "dCNyLYpAcY3i",
        "colab_type": "code",
        "colab": {
          "base_uri": "https://localhost:8080/",
          "height": 156
        },
        "outputId": "6d333206-3ea9-4ddc-fc79-5235865065d3"
      },
      "source": [
        "model.compile(loss='binary_crossentropy',\n",
        "              optimizer='adam',\n",
        "              metrics=['accuracy'])"
      ],
      "execution_count": 7,
      "outputs": [
        {
          "output_type": "stream",
          "text": [
            "W0702 09:27:05.068940 140503743260544 deprecation_wrapper.py:119] From /usr/local/lib/python3.6/dist-packages/keras/optimizers.py:790: The name tf.train.Optimizer is deprecated. Please use tf.compat.v1.train.Optimizer instead.\n",
            "\n",
            "W0702 09:27:05.106062 140503743260544 deprecation_wrapper.py:119] From /usr/local/lib/python3.6/dist-packages/keras/backend/tensorflow_backend.py:3376: The name tf.log is deprecated. Please use tf.math.log instead.\n",
            "\n",
            "W0702 09:27:05.115420 140503743260544 deprecation.py:323] From /usr/local/lib/python3.6/dist-packages/tensorflow/python/ops/nn_impl.py:180: add_dispatch_support.<locals>.wrapper (from tensorflow.python.ops.array_ops) is deprecated and will be removed in a future version.\n",
            "Instructions for updating:\n",
            "Use tf.where in 2.0, which has the same broadcast rule as np.where\n"
          ],
          "name": "stderr"
        }
      ]
    },
    {
      "cell_type": "code",
      "metadata": {
        "id": "Lnh2mM8pcdy6",
        "colab_type": "code",
        "colab": {}
      },
      "source": [
        "nb_epoch = 10\n",
        "nb_train_samples = 180\n",
        "nb_validation_samples = 50"
      ],
      "execution_count": 0,
      "outputs": []
    },
    {
      "cell_type": "code",
      "metadata": {
        "id": "v8iSLO-9cqco",
        "colab_type": "code",
        "outputId": "5b875b60-2883-487b-e3b1-d38c46f608bc",
        "colab": {
          "base_uri": "https://localhost:8080/",
          "height": 462
        }
      },
      "source": [
        "model.fit_generator(\n",
        "        train_generator,\n",
        "        samples_per_epoch=nb_train_samples,\n",
        "        nb_epoch=nb_epoch,\n",
        "        validation_data=validation_generator,\n",
        "        nb_val_samples=nb_validation_samples)"
      ],
      "execution_count": 9,
      "outputs": [
        {
          "output_type": "stream",
          "text": [
            "/usr/local/lib/python3.6/dist-packages/ipykernel_launcher.py:6: UserWarning: The semantics of the Keras 2 argument `steps_per_epoch` is not the same as the Keras 1 argument `samples_per_epoch`. `steps_per_epoch` is the number of batches to draw from the generator at each epoch. Basically steps_per_epoch = samples_per_epoch/batch_size. Similarly `nb_val_samples`->`validation_steps` and `val_samples`->`steps` arguments have changed. Update your method calls accordingly.\n",
            "  \n",
            "/usr/local/lib/python3.6/dist-packages/ipykernel_launcher.py:6: UserWarning: Update your `fit_generator` call to the Keras 2 API: `fit_generator(<keras_pre..., validation_data=<keras_pre..., steps_per_epoch=11, epochs=10, validation_steps=50)`\n",
            "  \n"
          ],
          "name": "stderr"
        },
        {
          "output_type": "stream",
          "text": [
            "Epoch 1/10\n",
            "11/11 [==============================] - 83s 8s/step - loss: 0.7160 - acc: 0.5455 - val_loss: 0.6575 - val_acc: 0.5000\n",
            "Epoch 2/10\n",
            "11/11 [==============================] - 17s 2s/step - loss: 0.6110 - acc: 0.6559 - val_loss: 0.5295 - val_acc: 0.8200\n",
            "Epoch 3/10\n",
            "11/11 [==============================] - 17s 2s/step - loss: 0.5176 - acc: 0.7146 - val_loss: 0.7870 - val_acc: 0.6000\n",
            "Epoch 4/10\n",
            "11/11 [==============================] - 17s 2s/step - loss: 0.6366 - acc: 0.7058 - val_loss: 0.6077 - val_acc: 0.7400\n",
            "Epoch 5/10\n",
            "11/11 [==============================] - 17s 2s/step - loss: 0.5051 - acc: 0.7900 - val_loss: 0.5302 - val_acc: 0.8000\n",
            "Epoch 6/10\n",
            "11/11 [==============================] - 16s 1s/step - loss: 0.4500 - acc: 0.7843 - val_loss: 0.4867 - val_acc: 0.7600\n",
            "Epoch 7/10\n",
            "11/11 [==============================] - 17s 2s/step - loss: 0.4192 - acc: 0.8457 - val_loss: 0.4811 - val_acc: 0.8000\n",
            "Epoch 8/10\n",
            "11/11 [==============================] - 17s 2s/step - loss: 0.3277 - acc: 0.8685 - val_loss: 0.5214 - val_acc: 0.7400\n",
            "Epoch 9/10\n",
            "11/11 [==============================] - 16s 1s/step - loss: 0.2895 - acc: 0.8742 - val_loss: 0.5719 - val_acc: 0.8200\n",
            "Epoch 10/10\n",
            "11/11 [==============================] - 16s 1s/step - loss: 0.3860 - acc: 0.8342 - val_loss: 0.4648 - val_acc: 0.7800\n"
          ],
          "name": "stdout"
        },
        {
          "output_type": "execute_result",
          "data": {
            "text/plain": [
              "<keras.callbacks.History at 0x7fc949f20b00>"
            ]
          },
          "metadata": {
            "tags": []
          },
          "execution_count": 9
        }
      ]
    },
    {
      "cell_type": "code",
      "metadata": {
        "id": "jqi7KmPL048n",
        "colab_type": "code",
        "colab": {}
      },
      "source": [
        "model.save_weights('/content/drive/My Drive/nudity_cnn_30_epochs.h5')"
      ],
      "execution_count": 0,
      "outputs": []
    },
    {
      "cell_type": "code",
      "metadata": {
        "id": "MqGEhzWb1Nqb",
        "colab_type": "code",
        "outputId": "8a719eea-c8d3-47b1-bcc1-281055c33502",
        "colab": {
          "base_uri": "https://localhost:8080/",
          "height": 34
        }
      },
      "source": [
        "model.evaluate_generator(validation_generator, nb_validation_samples)\n"
      ],
      "execution_count": 10,
      "outputs": [
        {
          "output_type": "execute_result",
          "data": {
            "text/plain": [
              "[0.4654808892726898, 0.7799999979019165]"
            ]
          },
          "metadata": {
            "tags": []
          },
          "execution_count": 10
        }
      ]
    },
    {
      "cell_type": "code",
      "metadata": {
        "id": "DAcky1hsI3Oo",
        "colab_type": "code",
        "colab": {}
      },
      "source": [
        "model.load_weights('/content/drive/My Drive/nudity_cnn_30_epochs.h5')"
      ],
      "execution_count": 0,
      "outputs": []
    },
    {
      "cell_type": "code",
      "metadata": {
        "id": "GRhxBBrc1hwy",
        "colab_type": "code",
        "colab": {}
      },
      "source": [
        "train_datagen_augmented = ImageDataGenerator(\n",
        "        rescale=1./255,        # normalize pixel values to [0,1]\n",
        "        shear_range=0.2,       # randomly applies shearing transformation\n",
        "        zoom_range=0.4,        # randomly applies shearing transformation\n",
        "        horizontal_flip=True) "
      ],
      "execution_count": 0,
      "outputs": []
    },
    {
      "cell_type": "code",
      "metadata": {
        "id": "vLBEvSsb1sco",
        "colab_type": "code",
        "outputId": "94c21cdc-cd45-4e6c-a004-2c4158aebd24",
        "colab": {
          "base_uri": "https://localhost:8080/",
          "height": 34
        }
      },
      "source": [
        "train_generator_augmented = train_datagen_augmented.flow_from_directory(\n",
        "        train_data_dir,\n",
        "        target_size=(img_width, img_height),\n",
        "        batch_size=32,\n",
        "        class_mode='binary')"
      ],
      "execution_count": 13,
      "outputs": [
        {
          "output_type": "stream",
          "text": [
            "Found 180 images belonging to 2 classes.\n"
          ],
          "name": "stdout"
        }
      ]
    },
    {
      "cell_type": "code",
      "metadata": {
        "id": "TKUhiDzl1yZl",
        "colab_type": "code",
        "outputId": "e1e3e54e-407d-468a-deb1-bb02decc4371",
        "colab": {
          "base_uri": "https://localhost:8080/",
          "height": 462
        }
      },
      "source": [
        "model.fit_generator(\n",
        "        train_generator_augmented,\n",
        "        samples_per_epoch=nb_train_samples,\n",
        "        nb_epoch=nb_epoch,\n",
        "        validation_data=validation_generator,\n",
        "        nb_val_samples=nb_validation_samples)"
      ],
      "execution_count": 14,
      "outputs": [
        {
          "output_type": "stream",
          "text": [
            "/usr/local/lib/python3.6/dist-packages/ipykernel_launcher.py:6: UserWarning: The semantics of the Keras 2 argument `steps_per_epoch` is not the same as the Keras 1 argument `samples_per_epoch`. `steps_per_epoch` is the number of batches to draw from the generator at each epoch. Basically steps_per_epoch = samples_per_epoch/batch_size. Similarly `nb_val_samples`->`validation_steps` and `val_samples`->`steps` arguments have changed. Update your method calls accordingly.\n",
            "  \n",
            "/usr/local/lib/python3.6/dist-packages/ipykernel_launcher.py:6: UserWarning: Update your `fit_generator` call to the Keras 2 API: `fit_generator(<keras_pre..., validation_data=<keras_pre..., steps_per_epoch=5, epochs=10, validation_steps=50)`\n",
            "  \n"
          ],
          "name": "stderr"
        },
        {
          "output_type": "stream",
          "text": [
            "Epoch 1/10\n",
            "5/5 [==============================] - 20s 4s/step - loss: 0.7247 - acc: 0.4937 - val_loss: 0.6937 - val_acc: 0.5000\n",
            "Epoch 2/10\n",
            "5/5 [==============================] - 17s 3s/step - loss: 0.6927 - acc: 0.5158 - val_loss: 0.6938 - val_acc: 0.5000\n",
            "Epoch 3/10\n",
            "5/5 [==============================] - 17s 3s/step - loss: 0.6945 - acc: 0.4747 - val_loss: 0.6965 - val_acc: 0.5000\n",
            "Epoch 4/10\n",
            "5/5 [==============================] - 17s 3s/step - loss: 0.6949 - acc: 0.5220 - val_loss: 0.6883 - val_acc: 0.5000\n",
            "Epoch 5/10\n",
            "5/5 [==============================] - 17s 3s/step - loss: 0.6703 - acc: 0.6296 - val_loss: 0.6905 - val_acc: 0.4800\n",
            "Epoch 6/10\n",
            "5/5 [==============================] - 17s 3s/step - loss: 0.6956 - acc: 0.5064 - val_loss: 0.7075 - val_acc: 0.4800\n",
            "Epoch 7/10\n",
            "5/5 [==============================] - 17s 3s/step - loss: 0.6370 - acc: 0.6250 - val_loss: 0.6619 - val_acc: 0.7000\n",
            "Epoch 8/10\n",
            "5/5 [==============================] - 17s 3s/step - loss: 0.6075 - acc: 0.7057 - val_loss: 0.6553 - val_acc: 0.6000\n",
            "Epoch 9/10\n",
            "5/5 [==============================] - 17s 3s/step - loss: 0.6060 - acc: 0.6677 - val_loss: 0.6991 - val_acc: 0.5000\n",
            "Epoch 10/10\n",
            "5/5 [==============================] - 17s 3s/step - loss: 0.6106 - acc: 0.6204 - val_loss: 0.6520 - val_acc: 0.6600\n"
          ],
          "name": "stdout"
        },
        {
          "output_type": "execute_result",
          "data": {
            "text/plain": [
              "<keras.callbacks.History at 0x7fc9478a0c50>"
            ]
          },
          "metadata": {
            "tags": []
          },
          "execution_count": 14
        }
      ]
    },
    {
      "cell_type": "code",
      "metadata": {
        "id": "22Yr5hc76zDS",
        "colab_type": "code",
        "colab": {}
      },
      "source": [
        "model.save_weights('/content/drive/My Drive/nudity_augmented_30_epochs.h5')\n"
      ],
      "execution_count": 0,
      "outputs": []
    },
    {
      "cell_type": "code",
      "metadata": {
        "id": "Z6G0cm6f7D6G",
        "colab_type": "code",
        "outputId": "d8900dbe-6a05-41d7-c63d-076539948d6c",
        "colab": {
          "base_uri": "https://localhost:8080/",
          "height": 34
        }
      },
      "source": [
        "model.evaluate_generator(validation_generator, nb_validation_samples)\n"
      ],
      "execution_count": 15,
      "outputs": [
        {
          "output_type": "execute_result",
          "data": {
            "text/plain": [
              "[0.6531129608154297, 0.6608000011444092]"
            ]
          },
          "metadata": {
            "tags": []
          },
          "execution_count": 15
        }
      ]
    },
    {
      "cell_type": "code",
      "metadata": {
        "id": "yP3J9xpmse1o",
        "colab_type": "code",
        "colab": {}
      },
      "source": [
        "class_names = ['drawings', 'hentai', 'neutral', 'porn', 'sexy']\n"
      ],
      "execution_count": 0,
      "outputs": []
    },
    {
      "cell_type": "code",
      "metadata": {
        "id": "YV2n_VzBC-yA",
        "colab_type": "code",
        "colab": {
          "base_uri": "https://localhost:8080/",
          "height": 181
        },
        "outputId": "1e784ccc-fedb-458c-a393-d62e488fcc5b"
      },
      "source": [
        "model = applications.VGG16(weights='imagenet', include_top=False)\n",
        "print('Model loaded.')\n"
      ],
      "execution_count": 16,
      "outputs": [
        {
          "output_type": "error",
          "ename": "NameError",
          "evalue": "ignored",
          "traceback": [
            "\u001b[0;31m---------------------------------------------------------------------------\u001b[0m",
            "\u001b[0;31mNameError\u001b[0m                                 Traceback (most recent call last)",
            "\u001b[0;32m<ipython-input-16-5248816de214>\u001b[0m in \u001b[0;36m<module>\u001b[0;34m()\u001b[0m\n\u001b[0;32m----> 1\u001b[0;31m \u001b[0mmodel\u001b[0m \u001b[0;34m=\u001b[0m \u001b[0mapplications\u001b[0m\u001b[0;34m.\u001b[0m\u001b[0mVGG16\u001b[0m\u001b[0;34m(\u001b[0m\u001b[0mweights\u001b[0m\u001b[0;34m=\u001b[0m\u001b[0;34m'imagenet'\u001b[0m\u001b[0;34m,\u001b[0m \u001b[0minclude_top\u001b[0m\u001b[0;34m=\u001b[0m\u001b[0;32mFalse\u001b[0m\u001b[0;34m)\u001b[0m\u001b[0;34m\u001b[0m\u001b[0;34m\u001b[0m\u001b[0m\n\u001b[0m\u001b[1;32m      2\u001b[0m \u001b[0mprint\u001b[0m\u001b[0;34m(\u001b[0m\u001b[0;34m'Model loaded.'\u001b[0m\u001b[0;34m)\u001b[0m\u001b[0;34m\u001b[0m\u001b[0;34m\u001b[0m\u001b[0m\n",
            "\u001b[0;31mNameError\u001b[0m: name 'applications' is not defined"
          ]
        }
      ]
    },
    {
      "cell_type": "code",
      "metadata": {
        "id": "i4s5mHDu8YIq",
        "colab_type": "code",
        "colab": {}
      },
      "source": [
        "#from keras.models import load_model\n",
        "import cv2\n",
        "import numpy as np\n",
        "\n",
        "model.load_weights('/content/drive/My Drive/nudity_cnn_30_epochs.h5')\n",
        "\n",
        "model.compile(loss='binary_crossentropy',\n",
        "             optimizer='adam',\n",
        "             metrics=['accuracy'])\n",
        "\n",
        "img = cv2.imread('/content/1.jpg')\n",
        "#print(img)\n",
        "img = cv2.resize(img,(150,150))\n",
        "img = np.reshape(img,[1,150,150,3])\n",
        "\n",
        "prediction = model.predict(img)\n",
        "\n",
        "print (prediction)"
      ],
      "execution_count": 0,
      "outputs": []
    }
  ]
}